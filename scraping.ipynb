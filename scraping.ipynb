{
 "cells": [
  {
   "cell_type": "code",
   "execution_count": 170,
   "metadata": {},
   "outputs": [
    {
     "name": "stdout",
     "output_type": "stream",
     "text": [
      "Requirement already satisfied: pyphen in /Users/damodargupta/anaconda3/lib/python3.10/site-packages (0.14.0)\n",
      "\n",
      "\u001b[1m[\u001b[0m\u001b[34;49mnotice\u001b[0m\u001b[1;39;49m]\u001b[0m\u001b[39;49m A new release of pip is available: \u001b[0m\u001b[31;49m23.2\u001b[0m\u001b[39;49m -> \u001b[0m\u001b[32;49m23.2.1\u001b[0m\n",
      "\u001b[1m[\u001b[0m\u001b[34;49mnotice\u001b[0m\u001b[1;39;49m]\u001b[0m\u001b[39;49m To update, run: \u001b[0m\u001b[32;49mpip install --upgrade pip\u001b[0m\n"
     ]
    }
   ],
   "source": [
    "!pip install pyphen"
   ]
  },
  {
   "cell_type": "code",
   "execution_count": 171,
   "metadata": {},
   "outputs": [
    {
     "name": "stderr",
     "output_type": "stream",
     "text": [
      "[nltk_data] Downloading package punkt to\n",
      "[nltk_data]     /Users/damodargupta/nltk_data...\n",
      "[nltk_data]   Package punkt is already up-to-date!\n",
      "[nltk_data] Downloading package stopwords to\n",
      "[nltk_data]     /Users/damodargupta/nltk_data...\n",
      "[nltk_data]   Package stopwords is already up-to-date!\n"
     ]
    }
   ],
   "source": [
    "import pandas as pd\n",
    "import nltk\n",
    "nltk.download('punkt')  \n",
    "nltk.download('stopwords')\n",
    "import pyphen\n",
    "from nltk.tokenize import sent_tokenize, word_tokenize\n",
    "import string\n",
    "from nltk.corpus import stopwords\n"
   ]
  },
  {
   "cell_type": "code",
   "execution_count": 172,
   "metadata": {},
   "outputs": [],
   "source": [
    "import requests\n",
    "from bs4 import BeautifulSoup as bs\n",
    "from urllib.request import urlopen as uReq\n",
    "import os\n",
    "import re\n"
   ]
  },
  {
   "cell_type": "code",
   "execution_count": 173,
   "metadata": {},
   "outputs": [
    {
     "data": {
      "text/html": [
       "<div>\n",
       "<style scoped>\n",
       "    .dataframe tbody tr th:only-of-type {\n",
       "        vertical-align: middle;\n",
       "    }\n",
       "\n",
       "    .dataframe tbody tr th {\n",
       "        vertical-align: top;\n",
       "    }\n",
       "\n",
       "    .dataframe thead th {\n",
       "        text-align: right;\n",
       "    }\n",
       "</style>\n",
       "<table border=\"1\" class=\"dataframe\">\n",
       "  <thead>\n",
       "    <tr style=\"text-align: right;\">\n",
       "      <th></th>\n",
       "      <th>URL_ID</th>\n",
       "      <th>URL</th>\n",
       "    </tr>\n",
       "  </thead>\n",
       "  <tbody>\n",
       "    <tr>\n",
       "      <th>0</th>\n",
       "      <td>123.0</td>\n",
       "      <td>https://insights.blackcoffer.com/rise-of-telem...</td>\n",
       "    </tr>\n",
       "    <tr>\n",
       "      <th>1</th>\n",
       "      <td>321.0</td>\n",
       "      <td>https://insights.blackcoffer.com/rise-of-e-hea...</td>\n",
       "    </tr>\n",
       "    <tr>\n",
       "      <th>2</th>\n",
       "      <td>2345.0</td>\n",
       "      <td>https://insights.blackcoffer.com/rise-of-e-hea...</td>\n",
       "    </tr>\n",
       "    <tr>\n",
       "      <th>3</th>\n",
       "      <td>4321.0</td>\n",
       "      <td>https://insights.blackcoffer.com/rise-of-telem...</td>\n",
       "    </tr>\n",
       "    <tr>\n",
       "      <th>4</th>\n",
       "      <td>432.0</td>\n",
       "      <td>https://insights.blackcoffer.com/rise-of-telem...</td>\n",
       "    </tr>\n",
       "    <tr>\n",
       "      <th>...</th>\n",
       "      <td>...</td>\n",
       "      <td>...</td>\n",
       "    </tr>\n",
       "    <tr>\n",
       "      <th>109</th>\n",
       "      <td>50921.0</td>\n",
       "      <td>https://insights.blackcoffer.com/coronavirus-i...</td>\n",
       "    </tr>\n",
       "    <tr>\n",
       "      <th>110</th>\n",
       "      <td>51382.8</td>\n",
       "      <td>https://insights.blackcoffer.com/coronavirus-i...</td>\n",
       "    </tr>\n",
       "    <tr>\n",
       "      <th>111</th>\n",
       "      <td>51844.6</td>\n",
       "      <td>https://insights.blackcoffer.com/what-are-the-...</td>\n",
       "    </tr>\n",
       "    <tr>\n",
       "      <th>112</th>\n",
       "      <td>52306.4</td>\n",
       "      <td>https://insights.blackcoffer.com/marketing-dri...</td>\n",
       "    </tr>\n",
       "    <tr>\n",
       "      <th>113</th>\n",
       "      <td>52768.2</td>\n",
       "      <td>https://insights.blackcoffer.com/continued-dem...</td>\n",
       "    </tr>\n",
       "  </tbody>\n",
       "</table>\n",
       "<p>114 rows × 2 columns</p>\n",
       "</div>"
      ],
      "text/plain": [
       "      URL_ID                                                URL\n",
       "0      123.0  https://insights.blackcoffer.com/rise-of-telem...\n",
       "1      321.0  https://insights.blackcoffer.com/rise-of-e-hea...\n",
       "2     2345.0  https://insights.blackcoffer.com/rise-of-e-hea...\n",
       "3     4321.0  https://insights.blackcoffer.com/rise-of-telem...\n",
       "4      432.0  https://insights.blackcoffer.com/rise-of-telem...\n",
       "..       ...                                                ...\n",
       "109  50921.0  https://insights.blackcoffer.com/coronavirus-i...\n",
       "110  51382.8  https://insights.blackcoffer.com/coronavirus-i...\n",
       "111  51844.6  https://insights.blackcoffer.com/what-are-the-...\n",
       "112  52306.4  https://insights.blackcoffer.com/marketing-dri...\n",
       "113  52768.2  https://insights.blackcoffer.com/continued-dem...\n",
       "\n",
       "[114 rows x 2 columns]"
      ]
     },
     "execution_count": 173,
     "metadata": {},
     "output_type": "execute_result"
    }
   ],
   "source": [
    "df = pd.read_excel('/Users/damodargupta/Desktop/blackcoffer-project/Input.xlsx')\n",
    "df"
   ]
  },
  {
   "cell_type": "code",
   "execution_count": 178,
   "metadata": {},
   "outputs": [],
   "source": [
    "# some url does not exist - 404 error\n",
    "# dropping those urls from the dataframe\n",
    "\n",
    "df = df[df['URL_ID'] != 11668]\n",
    "df = df[df['URL_ID'] != 17671.4]\n"
   ]
  },
  {
   "cell_type": "code",
   "execution_count": 180,
   "metadata": {},
   "outputs": [],
   "source": [
    "def extract_title(url):\n",
    "    uClient = uReq(url)\n",
    "    Page = uClient.read()\n",
    "    uClient.close()\n",
    "    url_html = bs(Page, \"html.parser\")\n",
    "    box = url_html.findAll(\"h1\", {\"class\": \"entry-title\"})\n",
    "   \n",
    "    if box == []:\n",
    "        box = url_html.findAll(\"h1\", {\"class\": \"tdb-title-text\"})\n",
    "    \n",
    "    if box != []:\n",
    "        box = str(box)\n",
    "        soup = bs(box, \"html.parser\")\n",
    "        title = soup.h1.get_text()\n",
    "        return title\n"
   ]
  },
  {
   "cell_type": "code",
   "execution_count": 181,
   "metadata": {},
   "outputs": [],
   "source": [
    "def extract_text(url):\n",
    "    uClient = uReq(url)\n",
    "    Page = uClient.read()\n",
    "    uClient.close()\n",
    "    url_html = bs(Page, \"html.parser\")\n",
    "    box = url_html.findAll(\"div\", {\"class\": \"td-post-content tagdiv-type\"})\n",
    "    \n",
    "    if box == []:\n",
    "        box = url_html.findAll(\"div\", {\"class\": \"tdb-block-inner td-fix-index\"})\n",
    "        \n",
    "    if box != []:\n",
    "        box = str(box)\n",
    "        soup = bs(box, 'html.parser')\n",
    "        elements = soup.find_all(['p', 'h1', 'h2', 'h3', 'h4', 'h5', 'h6', 'h7','h8', 'h9', 'h10', 'ol' , 'ul'])\n",
    "        extracted_text = ''\n",
    "        for element in elements:\n",
    "            extracted_text += element.get_text() + '\\n'\n",
    "        \n",
    "        return extracted_text\n",
    "    \n",
    "    "
   ]
  },
  {
   "cell_type": "code",
   "execution_count": 182,
   "metadata": {},
   "outputs": [
    {
     "name": "stdout",
     "output_type": "stream",
     "text": [
      "Saved title and text from URL https://insights.blackcoffer.com/rise-of-telemedicine-and-its-impact-on-livelihood-by-2040-3-2/ to 123.0.txt\n",
      "Saved title and text from URL https://insights.blackcoffer.com/rise-of-e-health-and-its-impact-on-humans-by-the-year-2030/ to 321.0.txt\n",
      "Saved title and text from URL https://insights.blackcoffer.com/rise-of-e-health-and-its-imapct-on-humans-by-the-year-2030-2/ to 2345.0.txt\n",
      "Saved title and text from URL https://insights.blackcoffer.com/rise-of-telemedicine-and-its-impact-on-livelihood-by-2040-2/ to 4321.0.txt\n",
      "Saved title and text from URL https://insights.blackcoffer.com/rise-of-telemedicine-and-its-impact-on-livelihood-by-2040-2-2/ to 432.0.txt\n",
      "Saved title and text from URL https://insights.blackcoffer.com/rise-of-chatbots-and-its-impact-on-customer-support-by-the-year-2040/ to 2893.8.txt\n",
      "Saved title and text from URL https://insights.blackcoffer.com/rise-of-e-health-and-its-imapct-on-humans-by-the-year-2030/ to 3355.6.txt\n",
      "Saved title and text from URL https://insights.blackcoffer.com/how-does-marketing-influence-businesses-and-consumers/ to 3817.4.txt\n",
      "Saved title and text from URL https://insights.blackcoffer.com/how-advertisement-increase-your-market-value/ to 4279.2.txt\n",
      "Saved title and text from URL https://insights.blackcoffer.com/negative-effects-of-marketing-on-society/ to 4741.0.txt\n",
      "Saved title and text from URL https://insights.blackcoffer.com/how-advertisement-marketing-affects-business/ to 5202.8.txt\n",
      "Saved title and text from URL https://insights.blackcoffer.com/rising-it-cities-will-impact-the-economy-environment-infrastructure-and-city-life-by-the-year-2035/ to 5664.6.txt\n",
      "Saved title and text from URL https://insights.blackcoffer.com/rise-of-ott-platform-and-its-impact-on-entertainment-industry-by-the-year-2030/ to 6126.4.txt\n",
      "Saved title and text from URL https://insights.blackcoffer.com/rise-of-electric-vehicles-and-its-impact-on-livelihood-by-2040/ to 6588.2.txt\n",
      "Saved title and text from URL https://insights.blackcoffer.com/rise-of-electric-vehicle-and-its-impact-on-livelihood-by-the-year-2040/ to 7050.0.txt\n",
      "Saved title and text from URL https://insights.blackcoffer.com/oil-prices-by-the-year-2040-and-how-it-will-impact-the-world-economy/ to 7511.8.txt\n",
      "Saved title and text from URL https://insights.blackcoffer.com/an-outlook-of-healthcare-by-the-year-2040-and-how-it-will-impact-human-lives/ to 7973.6.txt\n",
      "Saved title and text from URL https://insights.blackcoffer.com/ai-in-healthcare-to-improve-patient-outcomes/ to 8435.4.txt\n",
      "Saved title and text from URL https://insights.blackcoffer.com/what-if-the-creation-is-taking-over-the-creator/ to 8897.2.txt\n",
      "Saved title and text from URL https://insights.blackcoffer.com/what-jobs-will-robots-take-from-humans-in-the-future/ to 9359.0.txt\n",
      "Saved title and text from URL https://insights.blackcoffer.com/will-machine-replace-the-human-in-the-future-of-work/ to 9820.8.txt\n",
      "Saved title and text from URL https://insights.blackcoffer.com/will-ai-replace-us-or-work-with-us/ to 10282.6.txt\n",
      "Saved title and text from URL https://insights.blackcoffer.com/man-and-machines-together-machines-are-more-diligent-than-humans-blackcoffe/ to 10744.4.txt\n",
      "Saved title and text from URL https://insights.blackcoffer.com/in-future-or-in-upcoming-years-humans-and-machines-are-going-to-work-together-in-every-field-of-work/ to 11206.2.txt\n",
      "Saved title and text from URL https://insights.blackcoffer.com/how-machine-learning-will-affect-your-business/ to 12129.8.txt\n",
      "Saved title and text from URL https://insights.blackcoffer.com/deep-learning-impact-on-areas-of-e-learning/ to 12591.6.txt\n",
      "Saved title and text from URL https://insights.blackcoffer.com/how-to-protect-future-data-and-its-privacy-blackcoffer/ to 13053.4.txt\n",
      "Saved title and text from URL https://insights.blackcoffer.com/how-machines-ai-automations-and-robo-human-are-effective-in-finance-and-banking/ to 13515.2.txt\n",
      "Saved title and text from URL https://insights.blackcoffer.com/ai-human-robotics-machine-future-planet-blackcoffer-thinking-jobs-workplace/ to 13977.0.txt\n",
      "Saved title and text from URL https://insights.blackcoffer.com/how-ai-will-change-the-world-blackcoffer/ to 14438.8.txt\n",
      "Saved title and text from URL https://insights.blackcoffer.com/future-of-work-how-ai-has-entered-the-workplace/ to 14900.6.txt\n",
      "Saved title and text from URL https://insights.blackcoffer.com/ai-tool-alexa-google-assistant-finance-banking-tool-future/ to 15362.4.txt\n",
      "Saved title and text from URL https://insights.blackcoffer.com/ai-healthcare-revolution-ml-technology-algorithm-google-analytics-industrialrevolution/ to 15824.2.txt\n",
      "Saved title and text from URL https://insights.blackcoffer.com/all-you-need-to-know-about-online-marketing/ to 16286.0.txt\n",
      "Saved title and text from URL https://insights.blackcoffer.com/evolution-of-advertising-industry/ to 16747.8.txt\n",
      "Saved title and text from URL https://insights.blackcoffer.com/how-data-analytics-can-help-your-business-respond-to-the-impact-of-covid-19/ to 17209.6.txt\n",
      "Saved title and text from URL https://insights.blackcoffer.com/environmental-impact-of-the-covid-19-pandemic-lesson-for-the-future/ to 18133.2.txt\n",
      "Saved title and text from URL https://insights.blackcoffer.com/how-data-analytics-and-ai-are-used-to-halt-the-covid-19-pandemic/ to 18595.0.txt\n",
      "Saved title and text from URL https://insights.blackcoffer.com/difference-between-artificial-intelligence-machine-learning-statistics-and-data-mining/ to 19056.8.txt\n",
      "Saved title and text from URL https://insights.blackcoffer.com/how-python-became-the-first-choice-for-data-science/ to 19518.6.txt\n",
      "Saved title and text from URL https://insights.blackcoffer.com/how-google-fit-measure-heart-and-respiratory-rates-using-a-phone/ to 19980.4.txt\n",
      "Saved title and text from URL https://insights.blackcoffer.com/what-is-the-future-of-mobile-apps/ to 20442.2.txt\n",
      "Saved title and text from URL https://insights.blackcoffer.com/impact-of-ai-in-health-and-medicine/ to 20904.0.txt\n",
      "Saved title and text from URL https://insights.blackcoffer.com/telemedicine-what-patients-like-and-dislike-about-it/ to 21365.8.txt\n",
      "Saved title and text from URL https://insights.blackcoffer.com/how-we-forecast-future-technologies/ to 21827.6.txt\n",
      "Saved title and text from URL https://insights.blackcoffer.com/can-robots-tackle-late-life-loneliness/ to 22289.4.txt\n",
      "Saved title and text from URL https://insights.blackcoffer.com/embedding-care-robots-into-society-socio-technical-considerations/ to 22751.2.txt\n",
      "Saved title and text from URL https://insights.blackcoffer.com/management-challenges-for-future-digitalization-of-healthcare-services/ to 23213.0.txt\n",
      "Saved title and text from URL https://insights.blackcoffer.com/are-we-any-closer-to-preventing-a-nuclear-holocaust/ to 23674.8.txt\n",
      "Saved title and text from URL https://insights.blackcoffer.com/will-technology-eliminate-the-need-for-animal-testing-in-drug-development/ to 24136.6.txt\n",
      "Saved title and text from URL https://insights.blackcoffer.com/will-we-ever-understand-the-nature-of-consciousness/ to 24598.4.txt\n",
      "Saved title and text from URL https://insights.blackcoffer.com/will-we-ever-colonize-outer-space/ to 25060.2.txt\n",
      "Saved title and text from URL https://insights.blackcoffer.com/what-is-the-chance-homo-sapiens-will-survive-for-the-next-500-years/ to 25522.0.txt\n",
      "Saved title and text from URL https://insights.blackcoffer.com/why-does-your-business-need-a-chatbot/ to 25983.8.txt\n",
      "Saved title and text from URL https://insights.blackcoffer.com/how-you-lead-a-project-or-a-team-without-any-technical-expertise/ to 26445.6.txt\n",
      "Saved title and text from URL https://insights.blackcoffer.com/can-you-be-great-leader-without-technical-expertise/ to 26907.4.txt\n",
      "Saved title and text from URL https://insights.blackcoffer.com/how-does-artificial-intelligence-affect-the-environment/ to 27369.2.txt\n",
      "Saved title and text from URL https://insights.blackcoffer.com/how-to-overcome-your-fear-of-making-mistakes-2/ to 27831.0.txt\n",
      "Saved title and text from URL https://insights.blackcoffer.com/is-perfection-the-greatest-enemy-of-productivity/ to 28292.8.txt\n",
      "Saved title and text from URL https://insights.blackcoffer.com/global-financial-crisis-2008-causes-effects-and-its-solution/ to 28754.6.txt\n",
      "Saved title and text from URL https://insights.blackcoffer.com/gender-diversity-and-equality-in-the-tech-industry/ to 29216.4.txt\n",
      "Saved title and text from URL https://insights.blackcoffer.com/how-to-overcome-your-fear-of-making-mistakes/ to 29678.2.txt\n",
      "Saved title and text from URL https://insights.blackcoffer.com/how-small-business-can-survive-the-coronavirus-crisis/ to 30140.0.txt\n",
      "Saved title and text from URL https://insights.blackcoffer.com/impacts-of-covid-19-on-vegetable-vendors-and-food-stalls/ to 30601.8.txt\n",
      "Saved title and text from URL https://insights.blackcoffer.com/impacts-of-covid-19-on-vegetable-vendors/ to 31063.6.txt\n",
      "Saved title and text from URL https://insights.blackcoffer.com/impact-of-covid-19-pandemic-on-tourism-aviation-industries/ to 31525.4.txt\n",
      "Saved title and text from URL https://insights.blackcoffer.com/impact-of-covid-19-pandemic-on-sports-events-around-the-world/ to 31987.2.txt\n",
      "Saved title and text from URL https://insights.blackcoffer.com/changing-landscape-and-emerging-trends-in-the-indian-it-ites-industry/ to 32449.0.txt\n",
      "Saved title and text from URL https://insights.blackcoffer.com/online-gaming-adolescent-online-gaming-effects-demotivated-depression-musculoskeletal-and-psychosomatic-symptoms/ to 32910.8.txt\n",
      "Saved title and text from URL https://insights.blackcoffer.com/human-rights-outlook/ to 33372.6.txt\n",
      "Saved title and text from URL https://insights.blackcoffer.com/how-voice-search-makes-your-business-a-successful-business/ to 33834.4.txt\n",
      "Saved title and text from URL https://insights.blackcoffer.com/how-the-covid-19-crisis-is-redefining-jobs-and-services/ to 34296.2.txt\n",
      "Saved title and text from URL https://insights.blackcoffer.com/how-to-increase-social-media-engagement-for-marketers/ to 34758.0.txt\n",
      "Saved title and text from URL https://insights.blackcoffer.com/impacts-of-covid-19-on-streets-sides-food-stalls/ to 35219.8.txt\n",
      "Saved title and text from URL https://insights.blackcoffer.com/coronavirus-impact-on-energy-markets-2/ to 35681.6.txt\n",
      "Saved title and text from URL https://insights.blackcoffer.com/coronavirus-impact-on-the-hospitality-industry-5/ to 36143.4.txt\n",
      "Saved title and text from URL https://insights.blackcoffer.com/lessons-from-the-past-some-key-learnings-relevant-to-the-coronavirus-crisis-4/ to 36605.2.txt\n",
      "Saved title and text from URL https://insights.blackcoffer.com/estimating-the-impact-of-covid-19-on-the-world-of-work-2/ to 37067.0.txt\n",
      "Saved title and text from URL https://insights.blackcoffer.com/estimating-the-impact-of-covid-19-on-the-world-of-work-3/ to 37528.8.txt\n",
      "Saved title and text from URL https://insights.blackcoffer.com/travel-and-tourism-outlook/ to 37990.6.txt\n",
      "Saved title and text from URL https://insights.blackcoffer.com/gaming-disorder-and-effects-of-gaming-on-health/ to 38452.4.txt\n",
      "Saved title and text from URL https://insights.blackcoffer.com/what-is-the-repercussion-of-the-environment-due-to-the-covid-19-pandemic-situation/ to 38914.2.txt\n",
      "Saved title and text from URL https://insights.blackcoffer.com/what-is-the-repercussion-of-the-environment-due-to-the-covid-19-pandemic-situation-2/ to 39376.0.txt\n",
      "Saved title and text from URL https://insights.blackcoffer.com/impact-of-covid-19-pandemic-on-office-space-and-co-working-industries/ to 39837.8.txt\n",
      "Saved title and text from URL https://insights.blackcoffer.com/contribution-of-handicrafts-visual-arts-literature-in-the-indian-economy/ to 40299.6.txt\n",
      "Saved title and text from URL https://insights.blackcoffer.com/how-covid-19-is-impacting-payment-preferences/ to 40761.4.txt\n",
      "Saved title and text from URL https://insights.blackcoffer.com/how-will-covid-19-affect-the-world-of-work-2/ to 41223.2.txt\n",
      "Saved title and text from URL https://insights.blackcoffer.com/lessons-from-the-past-some-key-learnings-relevant-to-the-coronavirus-crisis/ to 41685.0.txt\n",
      "Saved title and text from URL https://insights.blackcoffer.com/covid-19-how-have-countries-been-responding/ to 42146.8.txt\n",
      "Saved title and text from URL https://insights.blackcoffer.com/coronavirus-impact-on-the-hospitality-industry-2/ to 42608.6.txt\n",
      "Saved title and text from URL https://insights.blackcoffer.com/how-will-covid-19-affect-the-world-of-work-3/ to 43070.4.txt\n",
      "Saved title and text from URL https://insights.blackcoffer.com/coronavirus-impact-on-the-hospitality-industry-3/ to 43532.2.txt\n",
      "Saved title and text from URL https://insights.blackcoffer.com/estimating-the-impact-of-covid-19-on-the-world-of-work/ to 43994.0.txt\n",
      "Saved title and text from URL https://insights.blackcoffer.com/covid-19-how-have-countries-been-responding-2/ to 44455.8.txt\n",
      "Saved title and text from URL https://insights.blackcoffer.com/how-will-covid-19-affect-the-world-of-work-4/ to 44917.6.txt\n",
      "Saved title and text from URL https://insights.blackcoffer.com/lessons-from-the-past-some-key-learnings-relevant-to-the-coronavirus-crisis-2/ to 45379.4.txt\n",
      "Saved title and text from URL https://insights.blackcoffer.com/lessons-from-the-past-some-key-learnings-relevant-to-the-coronavirus-crisis-3/ to 45841.2.txt\n",
      "Saved title and text from URL https://insights.blackcoffer.com/coronavirus-impact-on-the-hospitality-industry-4/ to 46303.0.txt\n",
      "Saved title and text from URL https://insights.blackcoffer.com/why-scams-like-nirav-modi-happen-with-indian-banks/ to 46764.8.txt\n",
      "Saved title and text from URL https://insights.blackcoffer.com/impact-of-covid-19-on-the-global-economy/ to 47226.6.txt\n",
      "Saved title and text from URL https://insights.blackcoffer.com/impact-of-covid-19coronavirus-on-the-indian-economy-2/ to 47688.4.txt\n",
      "Saved title and text from URL https://insights.blackcoffer.com/impact-of-covid-19-on-the-global-economy-2/ to 48150.2.txt\n",
      "Saved title and text from URL https://insights.blackcoffer.com/impact-of-covid-19-coronavirus-on-the-indian-economy-3/ to 48612.0.txt\n",
      "Saved title and text from URL https://insights.blackcoffer.com/should-celebrities-be-allowed-to-join-politics/ to 49073.8.txt\n",
      "Saved title and text from URL https://insights.blackcoffer.com/how-prepared-is-india-to-tackle-a-possible-covid-19-outbreak/ to 49535.6.txt\n",
      "Saved title and text from URL https://insights.blackcoffer.com/how-will-covid-19-affect-the-world-of-work/ to 49997.4.txt\n",
      "Saved title and text from URL https://insights.blackcoffer.com/controversy-as-a-marketing-strategy/ to 50459.2.txt\n",
      "Saved title and text from URL https://insights.blackcoffer.com/coronavirus-impact-on-the-hospitality-industry/ to 50921.0.txt\n",
      "Saved title and text from URL https://insights.blackcoffer.com/coronavirus-impact-on-energy-markets/ to 51382.8.txt\n",
      "Saved title and text from URL https://insights.blackcoffer.com/what-are-the-key-policies-that-will-mitigate-the-impacts-of-covid-19-on-the-world-of-work/ to 51844.6.txt\n",
      "Saved title and text from URL https://insights.blackcoffer.com/marketing-drives-results-with-a-focus-on-problems/ to 52306.4.txt\n",
      "Saved title and text from URL https://insights.blackcoffer.com/continued-demand-for-sustainability/ to 52768.2.txt\n"
     ]
    }
   ],
   "source": [
    "# Define a function to save text to a file\n",
    "def save_text_to_file(url_id, text):\n",
    "    with open(f\"{url_id}.txt\", \"w\", encoding=\"utf-8\") as file:\n",
    "        file.write(text)\n",
    "\n",
    "# Loop through the DataFrame and save text to files\n",
    "for index, row in df.iterrows():\n",
    "    url_id = row['URL_ID']\n",
    "    url = row['URL']\n",
    "    \n",
    "    title = extract_title(url)\n",
    "    text = extract_text(url)\n",
    "\n",
    "    if title is not None and text is not None:\n",
    "        # Concatenate the title and text\n",
    "        result = title + '\\n' + '\\n' + text\n",
    "    \n",
    "        # Save both the title and text to the same file\n",
    "        with open(\"/Users/damodargupta/Desktop/blackcoffer-project/saved_articles/\" + f\"{url_id}.txt\", \"w\", encoding=\"utf-8\") as file:\n",
    "            file.write(result)\n",
    "        print(f\"Saved title and text from URL {url} to {url_id}.txt\")"
   ]
  },
  {
   "cell_type": "code",
   "execution_count": null,
   "metadata": {},
   "outputs": [
    {
     "name": "stdout",
     "output_type": "stream",
     "text": [
      "[]\n"
     ]
    },
    {
     "ename": "AttributeError",
     "evalue": "'NoneType' object has no attribute 'get_text'",
     "output_type": "error",
     "traceback": [
      "\u001b[0;31m---------------------------------------------------------------------------\u001b[0m",
      "\u001b[0;31mAttributeError\u001b[0m                            Traceback (most recent call last)",
      "Cell \u001b[0;32mIn[158], line 1\u001b[0m\n\u001b[0;32m----> 1\u001b[0m extract_title(\u001b[39m\"\u001b[39;49m\u001b[39mhttps://insights.blackcoffer.com/rise-of-e-health-and-its-imapct-on-humans-by-the-year-2030-2/\u001b[39;49m\u001b[39m\"\u001b[39;49m)\n",
      "Cell \u001b[0;32mIn[155], line 15\u001b[0m, in \u001b[0;36mextract_title\u001b[0;34m(url)\u001b[0m\n\u001b[1;32m     13\u001b[0m box \u001b[39m=\u001b[39m \u001b[39mstr\u001b[39m(box)\n\u001b[1;32m     14\u001b[0m soup \u001b[39m=\u001b[39m bs(box, \u001b[39m\"\u001b[39m\u001b[39mhtml.parser\u001b[39m\u001b[39m\"\u001b[39m)\n\u001b[0;32m---> 15\u001b[0m title \u001b[39m=\u001b[39m soup\u001b[39m.\u001b[39;49mh1\u001b[39m.\u001b[39;49mget_text()\n\u001b[1;32m     16\u001b[0m \u001b[39mreturn\u001b[39;00m title\n",
      "\u001b[0;31mAttributeError\u001b[0m: 'NoneType' object has no attribute 'get_text'"
     ]
    }
   ],
   "source": [
    "extract_title(\"https://insights.blackcoffer.com/rise-of-e-health-and-its-imapct-on-humans-by-the-year-2030-2/\")\n",
    "extract_text(\"https://insights.blackcoffer.com/rise-of-e-health-and-its-imapct-on-humans-by-the-year-2030-2/\")"
   ]
  },
  {
   "cell_type": "code",
   "execution_count": 30,
   "metadata": {},
   "outputs": [],
   "source": [
    "def read_stop_words(file_path):\n",
    "    with open(file_path, 'r') as stop_words_file:\n",
    "        stop_words = stop_words_file.read().splitlines()\n",
    "    return stop_words\n",
    "\n",
    "def cleaning(url):\n",
    "    stopwords_folder = '/Users/damodargupta/Desktop/blackcoffer-project/StopWords'\n",
    "\n",
    "    stop_words = []\n",
    "\n",
    "    stop_word_files = [\n",
    "        'StopWords_Auditor.txt',\n",
    "        'StopWords_Currencies.txt',\n",
    "        'StopWords_DatesandNumbers.txt',\n",
    "        'StopWords_Generic.txt',\n",
    "        'StopWords_GenericLong.txt',\n",
    "        'StopWords_Geographic.txt',\n",
    "        'StopWords_Names.txt'\n",
    "    ]\n",
    "\n",
    "    for file_name in stop_word_files:\n",
    "        file_path = os.path.join(stopwords_folder, file_name)\n",
    "        stop_words.extend(read_stop_words(file_path))\n",
    "\n",
    "    article_text = extract_text(url)\n",
    "    words = str(article_text).split()\n",
    "\n",
    "    cleaned_words = [word for word in words if word.lower() not in stop_words]\n",
    "\n",
    "    cleaned_text = ' '.join(cleaned_words)\n",
    "\n",
    "    return cleaned_text\n"
   ]
  },
  {
   "cell_type": "code",
   "execution_count": 31,
   "metadata": {},
   "outputs": [
    {
     "data": {
      "text/plain": [
       "'afraid robots jobs nurses, doctors, healthcareprofessionals? scared artificial intelligence control world acouple years?COVID-19 revealed vulnerable health care industry change structural technological transformation. COVID-19 pandemic unwelcome reminder health matters individuals society global economy. Improved health accounted one-third GDP capita growth developed economies past century. traditional boundaries industry dissolve roles emerge future health exponential innovation propels industry 2040. 2040, health care today longer exist. fundamental shift “health care” “health.” disease eliminated, science, data, technology, identify earlier, intervene proactively, understand progression consumers effectively actively sustain well-being. future focused wellness managed companies assume roles drive transformed health ecosystem. rate technological evolution continues speed up, companies ahead proactively plan future. healthcare industry, particular, pressing compounded pace declining health society. Ray Hammond commented healthcare 2040: “Healthcare arenas stake. 20 years witness profound change healthcare, notable medical science healthcare delivery tend conservative, slow-moving sectors highly resistant change. annual global market estimated worth $8.1 trillion, annual global spending healthcare forecast rise $18.28 trillion 2040. mind, collective responsibility generation determine change impact us.” health promote economic growth? First, fewer people die prematurely working-age population increase. people healthier, absences sickness decline workers distracted managing conditions loved ones. Also, fewer workers retire early health conditions. COVID-19 pandemic hit people underlying health conditions hardest—for example, diabetes, hypertension, chronic obstructive pulmonary disorder, obesity, common world’s economies. improve health world’s population, build resilience future pandemics dramatically improve quality life millions people suffer heavy dailythe toll chronic conditions. Actions programs adopting healthy behavior, expanding access primary care, improving medication adherence—could reduce global disease burden 40% 20 years. found reduction disease burden deliver tremendous benefits: 65-year-old 2040 healthy 55-year-old today, infant mortality decline 65% 230 million people alive 2040. 70% health benefits prevention healthier environments, healthier behavior, preventive care (including safe childbirth, vaccination, adherence medications lower risk) treatment diseases. improve health invest communities children grow live long healthy lives adults. remaining 30% benefits found proven therapies treat existing health conditions. “Future health care wellbeing” report authored internationally renowned futurologist, Ray Hammond presents future developments trends healthcare 2040. report’s key healthcare predictions 2040 are: • Health information traditional annual physical check-ups tests previously surgery lab replaced data sensors on/around ‘smart’ bodies (including clothing and, eventually, skin blood). immediately accessible us, real-time.• field ‘predictive medical data mining’ provide early warnings physiological trouble ahead indications disease develops. Physicians 24/7 real-time reports patients’ wellbeing alerted change patients’ data requires urgent attention.• Stem-cell medicine powerful tool mainstream medicine. example, replacement human organs transplant grown demand stem cells lab, minimal risk rejection• Nano-medicine (in infancy 2019) eventually outperform branches medical science, scientists create ‘designer drugs powerful today’s drugs• Artificial Intelligence (AI) ‘chatbots’ equipped deep learning algorithms relieve emergency room personnel tending large numbers walk-in patients non-emergencies (e.g. sore throats, UTIs). 10 archetypes fall distinct, interconnected, categories: • Data platforms: archetypes foundational infrastructure forms backbone tomorrow’s health ecosystem. generate insights decision-making. build data platforms underpin consumer-driven health.• Well-being care delivery: archetypes health-focused groupings made care facilities health communities—both virtual physical, provide consumer-centric delivery products, care, wellness, well-being. • Care enablement: archetypes connectors, financers, regulators thathelp make industry’s “engine” run. components fully functioning integrated future health life.The future healthcare shaping front eyes advances digital healthcare technologies, artificial intelligence, VR/AR, 3D printing, robotics, nanotechnology. familiarize latest developments control technology around. future healthcare lies working hand-in-hand technology healthcare workers embrace emerging healthcare technologies stay relevant coming years. worth starting “the future” betterment health digital technologies, changing attitude concept health medicine healthcare.'"
      ]
     },
     "execution_count": 31,
     "metadata": {},
     "output_type": "execute_result"
    }
   ],
   "source": [
    "cleaning(\"https://insights.blackcoffer.com/an-outlook-of-healthcare-by-the-year-2040-and-how-it-will-impact-human-lives/\")"
   ]
  },
  {
   "cell_type": "code",
   "execution_count": 75,
   "metadata": {},
   "outputs": [],
   "source": [
    "def read_text_file(file_path):\n",
    "    try:\n",
    "        with open(file_path, 'r') as file:\n",
    "            file_content = file.read()\n",
    "        return file_content\n",
    "    except FileNotFoundError:\n",
    "        return None\n",
    "    \n",
    "# Tokenize text into words\n",
    "def tokenize_text(text):\n",
    "    # You can use more advanced tokenization techniques as needed\n",
    "    return text.split()\n",
    "\n",
    "# Create positive and negative dictionaries\n",
    "def categorize_words(url):\n",
    "    words = tokenize_text(cleaning(url))\n",
    "    \n",
    "    positive_dict = {}\n",
    "    negative_dict = {}\n",
    "\n",
    "    # Path to positive and negative word files\n",
    "    positive_dict_file = read_text_file('/Users/damodargupta/Desktop/blackcoffer-project/MasterDictionary/positive-words.txt')\n",
    "    negative_dict_file = read_text_file('/Users/damodargupta/Desktop/blackcoffer-project/MasterDictionary/negative-words.txt')\n",
    "    \n",
    "    for word in words:\n",
    "        word = word.lower()  # Normalize to lowercase\n",
    "        if word in positive_dict_file:\n",
    "            positive_dict[word] = 'positive'\n",
    "        elif word in negative_dict_file:\n",
    "            negative_dict[word] = 'negative'\n",
    "        \n",
    "    # # Print the positive and negative dictionaries\n",
    "    # print(\"Positive Dictionary:\")\n",
    "    # for word, sentiment in positive_dict.items():\n",
    "    #     print(f\"{word}: {sentiment}\")\n",
    "\n",
    "    # print(\"\\nNegative Dictionary:\")\n",
    "    # for word, sentiment in negative_dict.items():\n",
    "    #     print(f\"{word}: {sentiment}\")\n",
    "    \n",
    "    return positive_dict, negative_dict\n"
   ]
  },
  {
   "cell_type": "code",
   "execution_count": 76,
   "metadata": {},
   "outputs": [
    {
     "data": {
      "text/plain": [
       "({'intelligence': 'positive',\n",
       "  'world': 'positive',\n",
       "  'vulnerable': 'positive',\n",
       "  'health': 'positive',\n",
       "  'care': 'positive',\n",
       "  'improved': 'positive',\n",
       "  'future': 'positive',\n",
       "  'innovation': 'positive',\n",
       "  'understand': 'positive',\n",
       "  'effectively': 'positive',\n",
       "  'actively': 'positive',\n",
       "  'sustain': 'positive',\n",
       "  'managed': 'positive',\n",
       "  'rate': 'positive',\n",
       "  'evolution': 'positive',\n",
       "  'speed': 'positive',\n",
       "  'pace': 'positive',\n",
       "  'ray': 'positive',\n",
       "  'profound': 'positive',\n",
       "  'tend': 'positive',\n",
       "  'worth': 'positive',\n",
       "  'promote': 'positive',\n",
       "  'economic': 'positive',\n",
       "  'die': 'positive',\n",
       "  'loved': 'positive',\n",
       "  'early': 'positive',\n",
       "  'improve': 'positive',\n",
       "  'quality': 'positive',\n",
       "  'life': 'positive',\n",
       "  'toll': 'positive',\n",
       "  'healthy': 'positive',\n",
       "  'access': 'positive',\n",
       "  'improving': 'positive',\n",
       "  'found': 'positive',\n",
       "  'tremendous': 'positive',\n",
       "  'benefits': 'positive',\n",
       "  'safe': 'positive',\n",
       "  'lower': 'positive',\n",
       "  'grow': 'positive',\n",
       "  'live': 'positive',\n",
       "  'long': 'positive',\n",
       "  'proven': 'positive',\n",
       "  'renowned': 'positive',\n",
       "  'lab': 'positive',\n",
       "  'accessible': 'positive',\n",
       "  'provide': 'positive',\n",
       "  'trouble': 'positive',\n",
       "  'wellbeing': 'positive',\n",
       "  'powerful': 'positive',\n",
       "  'human': 'positive',\n",
       "  'risk': 'positive',\n",
       "  'outperform': 'positive',\n",
       "  'room': 'positive',\n",
       "  'large': 'positive',\n",
       "  'fall': 'positive',\n",
       "  'forms': 'positive',\n",
       "  'backbone': 'positive',\n",
       "  'well-being': 'positive',\n",
       "  'made': 'positive',\n",
       "  'fully': 'positive',\n",
       "  'integrated': 'positive',\n",
       "  'working': 'positive'},\n",
       " {'afraid': 'negative',\n",
       "  'scared': 'negative',\n",
       "  'control': 'negative',\n",
       "  'change': 'negative',\n",
       "  'unwelcome': 'negative',\n",
       "  'developed': 'negative',\n",
       "  'dissolve': 'negative',\n",
       "  'emerge': 'negative',\n",
       "  'fundamental': 'negative',\n",
       "  'pressing': 'negative',\n",
       "  'declining': 'negative',\n",
       "  'slow-moving': 'negative',\n",
       "  'generation': 'negative',\n",
       "  'determine': 'negative',\n",
       "  'sickness': 'negative',\n",
       "  'decline': 'negative',\n",
       "  'hit': 'negative',\n",
       "  'chronic': 'negative',\n",
       "  'common': 'negative',\n",
       "  'dramatically': 'negative',\n",
       "  'suffer': 'negative',\n",
       "  'heavy': 'negative',\n",
       "  'burden': 'negative',\n",
       "  'treatment': 'negative',\n",
       "  'treat': 'negative',\n",
       "  'key': 'negative',\n",
       "  'tests': 'negative',\n",
       "  'skin': 'negative',\n",
       "  'urgent': 'negative',\n",
       "  'emergency': 'negative',\n",
       "  'sore': 'negative',\n",
       "  'generate': 'negative',\n",
       "  'make': 'negative',\n",
       "  'front': 'negative',\n",
       "  'eyes': 'negative',\n",
       "  'lies': 'negative',\n",
       "  'relevant': 'negative',\n",
       "  'coming': 'negative',\n",
       "  'concept': 'negative'})"
      ]
     },
     "execution_count": 76,
     "metadata": {},
     "output_type": "execute_result"
    }
   ],
   "source": [
    "categorize_words(\"https://insights.blackcoffer.com/an-outlook-of-healthcare-by-the-year-2040-and-how-it-will-impact-human-lives/\")"
   ]
  },
  {
   "cell_type": "code",
   "execution_count": 87,
   "metadata": {},
   "outputs": [],
   "source": [
    "import nltk\n",
    "from nltk.tokenize import word_tokenize\n",
    "\n",
    "def calculate_score(url) : \n",
    "    positive_dict , negative_dict = categorize_words(url) \n",
    "    text = extract_text(url)\n",
    "\n",
    "    # Tokenize the text using nltk\n",
    "    tokens = word_tokenize(text)\n",
    "    print(tokens)\n",
    "\n",
    "    # Initialize the positive score\n",
    "    positive_score = 0\n",
    "    negative_score = 0\n",
    "\n",
    "    # Calculate the positive score\n",
    "    for token in tokens:\n",
    "        if token.lower() in positive_dict:\n",
    "            positive_score += 1\n",
    "        elif token.lower() in negative_dict:\n",
    "            negative_score -= 1\n",
    "    \n",
    "    negative_score = abs(negative_score)\n",
    "    \n",
    "    # Calculate the Polarity Score\n",
    "    polarity_score = (positive_score - negative_score) / (positive_score + negative_score + 0.000001)\n",
    "    \n",
    "    # Calculate the subjectivity Score\n",
    "    total_words_after_cleaning = len(cleaning(url).split())\n",
    "    subjectivity_score = (positive_score + negative_score) / (total_words_after_cleaning + 0.000001)\n",
    "\n",
    "\n",
    "    # Print the scores\n",
    "    print(\"Positive Score:\", positive_score)\n",
    "    print(\"Negative Score:\", negative_score)\n",
    "    print(\"Polarity Score:\", polarity_score)\n",
    "    print(\"Subjectivity Score\", subjectivity_score)\n"
   ]
  },
  {
   "cell_type": "code",
   "execution_count": 88,
   "metadata": {},
   "outputs": [
    {
     "name": "stdout",
     "output_type": "stream",
     "text": [
      "['Are', 'you', 'afraid', 'that', 'robots', 'will', 'take', 'over', 'the', 'jobs', 'of', 'nurses', ',', 'doctors', ',', 'and', 'other', 'healthcareprofessionals', '?', 'Are', 'you', 'scared', 'that', 'artificial', 'intelligence', 'will', 'control', 'the', 'world', 'within', 'acouple', 'of', 'years', '?', 'COVID-19', 'has', 'revealed', 'how', 'vulnerable', 'the', 'health', 'care', 'industry', 'is', 'to', 'change', 'and', 'its', 'need', 'for', 'structural', 'and', 'technological', 'transformation', '.', 'The', 'COVID-19', 'pandemic', 'has', 'been', 'an', 'unwelcome', 'reminder', 'of', 'just', 'how', 'much', 'health', 'matters', 'not', 'only', 'to', 'individuals', 'and', 'society', 'but', 'also', 'to', 'the', 'global', 'economy', '.', 'Improved', 'health', 'accounted', 'for', 'about', 'one-third', 'of', 'the', 'overall', 'GDP', 'per', 'capita', 'growth', 'of', 'developed', 'economies', 'in', 'the', 'past', 'century', '.', 'The', 'traditional', 'boundaries', 'of', 'the', 'industry', 'will', 'dissolve', 'and', 'new', 'roles', 'will', 'emerge', 'in', 'the', 'future', 'of', 'health', 'as', 'exponential', 'innovation', 'propels', 'the', 'industry', 'towards', '2040', '.', 'By', '2040', ',', 'health', 'care', 'as', 'we', 'know', 'it', 'today', 'will', 'no', 'longer', 'exist', '.', 'There', 'will', 'be', 'a', 'fundamental', 'shift', 'from', '“', 'health', 'care', '”', 'to', '“', 'health.', '”', 'And', 'while', 'disease', 'will', 'never', 'be', 'eliminated', ',', 'through', 'science', ',', 'data', ',', 'and', 'technology', ',', 'we', 'can', 'identify', 'it', 'earlier', ',', 'intervene', 'proactively', ',', 'and', 'better', 'understand', 'its', 'progression', 'to', 'help', 'consumers', 'more', 'effectively', 'and', 'actively', 'sustain', 'their', 'well-being', '.', 'The', 'future', 'will', 'be', 'focused', 'on', 'wellness', 'and', 'managed', 'by', 'companies', 'that', 'assume', 'new', 'roles', 'to', 'drive', 'value', 'in', 'the', 'transformed', 'health', 'ecosystem', '.', 'As', 'the', 'rate', 'of', 'technological', 'evolution', 'continues', 'to', 'speed', 'up', ',', 'companies', 'need', 'to', 'look', 'ahead', 'and', 'proactively', 'plan', 'for', 'the', 'future', '.', 'For', 'the', 'healthcare', 'industry', ',', 'in', 'particular', ',', 'this', 'need', 'is', 'even', 'more', 'pressing', 'as', 'it', 'is', 'compounded', 'by', 'the', 'pace', 'of', 'declining', 'health', 'in', 'our', 'society', '.', 'Ray', 'Hammond', 'commented', 'on', 'what', 'healthcare', 'will', 'look', 'like', 'in', '2040', ':', '“', 'Healthcare', 'is', 'one', 'of', 'the', 'few', 'arenas', 'in', 'which', 'every', 'one', 'of', 'us', 'has', 'a', 'stake', '.', 'The', 'next', '20', 'years', 'will', 'witness', 'a', 'profound', 'change', 'in', 'healthcare', ',', 'all', 'the', 'more', 'notable', 'given', 'that', 'medical', 'science', 'and', 'healthcare', 'delivery', 'tend', 'to', 'be', 'conservative', ',', 'slow-moving', 'sectors', 'that', 'are', 'highly', 'resistant', 'to', 'change', '.', 'The', 'annual', 'global', 'market', 'is', 'currently', 'estimated', 'to', 'be', 'worth', 'around', '$', '8.1', 'trillion', ',', 'with', 'annual', 'global', 'spending', 'on', 'healthcare', 'forecast', 'to', 'rise', 'to', '$', '18.28', 'trillion', 'by', '2040', '.', 'With', 'that', 'in', 'mind', ',', 'we', 'have', 'a', 'collective', 'responsibility', 'to', 'ourselves', 'and', 'to', 'the', 'next', 'generation', 'to', 'determine', 'what', 'that', 'change', 'will', 'look', 'like', 'and', 'the', 'impact', 'it', 'will', 'have', 'on', 'all', 'of', 'us.', '”', 'How', 'exactly', 'does', 'better', 'health', 'promote', 'economic', 'growth', '?', 'First', ',', 'fewer', 'people', 'are', 'likely', 'to', 'die', 'prematurely', 'so', 'the', 'working-age', 'population', 'will', 'increase', '.', 'When', 'people', 'are', 'healthier', ',', 'absences', 'from', 'sickness', 'decline', 'and', 'workers', 'are', 'less', 'distracted', 'by', 'managing', 'their', 'conditions', 'or', 'those', 'of', 'their', 'loved', 'ones', '.', 'Also', ',', 'fewer', 'workers', 'retire', 'early', 'because', 'of', 'health', 'conditions', '.', 'The', 'COVID-19', 'pandemic', 'has', 'hit', 'people', 'with', 'underlying', 'health', 'conditions', 'hardest—for', 'example', ',', 'diabetes', ',', 'hypertension', ',', 'a', 'chronic', 'obstructive', 'pulmonary', 'disorder', ',', 'and', 'obesity', ',', 'which', 'are', 'common', 'across', 'most', 'of', 'the', 'world', '’', 's', 'economies', '.', 'We', 'can', 'improve', 'the', 'health', 'of', 'the', 'world', '’', 's', 'population', ',', 'and', 'that', 'would', 'not', 'only', 'build', 'resilience', 'against', 'future', 'pandemics', 'but', 'also', 'dramatically', 'improve', 'the', 'quality', 'of', 'life', 'of', 'millions', 'of', 'people', 'who', 'suffer', 'the', 'heavy', 'dailythe', 'toll', 'of', 'chronic', 'conditions', '.', 'Actions', 'or', 'programs', 'such', 'as', 'adopting', 'healthy', 'behavior', ',', 'expanding', 'access', 'to', 'primary', 'care', ',', 'and', 'improving', 'medication', 'adherence—could', 'reduce', 'the', 'global', 'disease', 'burden', 'by', '40', '%', 'over', '20', 'years', '.', 'We', 'found', 'that', 'such', 'a', 'reduction', 'of', 'the', 'disease', 'burden', 'would', 'deliver', 'tremendous', 'benefits', ':', 'a', '65-year-old', 'in', '2040', 'could', 'be', 'as', 'healthy', 'as', 'a', '55-year-old', 'today', ',', 'infant', 'mortality', 'would', 'decline', 'by', '65', '%', 'and', '230', 'million', 'more', 'people', 'would', 'be', 'alive', 'in', '2040', '.', 'More', 'than', '70', '%', 'of', 'the', 'health', 'benefits', 'would', 'come', 'from', 'prevention', 'through', 'healthier', 'environments', ',', 'healthier', 'behavior', ',', 'and', 'preventive', 'care', '(', 'including', 'safe', 'childbirth', ',', 'vaccination', ',', 'and', 'adherence', 'to', 'medications', 'that', 'lower', 'risk', ')', 'rather', 'than', 'treatment', 'of', 'diseases', '.', 'One', 'way', 'to', 'improve', 'health', 'is', 'to', 'invest', 'in', 'communities', 'so', 'that', 'children', 'can', 'grow', 'up', 'to', 'live', 'long', 'and', 'healthy', 'lives', 'as', 'adults', '.', 'The', 'remaining', '30', '%', 'of', 'the', 'benefits', 'we', 'found', 'would', 'come', 'from', 'proven', 'therapies', 'to', 'treat', 'existing', 'health', 'conditions', '.', '“', 'Future', 'health', 'care', 'and', 'wellbeing', '”', 'report', 'authored', 'by', 'internationally', 'renowned', 'futurologist', ',', 'Ray', 'Hammond', 'presents', 'the', 'likely', 'future', 'developments', 'and', 'trends', 'in', 'healthcare', 'between', 'now', 'and', '2040', '.', 'Among', 'the', 'report', '’', 's', 'key', 'healthcare', 'predictions', 'for', '2040', 'are', ':', '•', 'Health', 'information', 'from', 'traditional', 'annual', 'physical', 'check-ups', 'and', 'other', 'tests', 'previously', 'only', 'available', 'in', 'surgery', 'or', 'lab', 'will', 'be', 'replaced', 'by', 'data', 'from', 'sensors', 'on/around', 'our', '‘', 'smart', '’', 'bodies', '(', 'including', 'in', 'our', 'clothing', 'and', ',', 'eventually', ',', 'skin', 'and', 'blood', ')', '.', 'This', 'will', 'be', 'immediately', 'accessible', 'to', 'us', ',', 'in', 'real-time.•', 'A', 'new', 'field', 'of', '‘', 'predictive', 'medical', 'data', 'mining', '’', 'will', 'provide', 'early', 'warnings', 'of', 'physiological', 'trouble', 'ahead', 'or', 'indications', 'of', 'disease', 'as', 'it', 'develops', '.', 'Physicians', 'will', 'have', '24/7', 'real-time', 'reports', 'of', 'their', 'patients', '’', 'wellbeing', 'and', 'will', 'be', 'alerted', 'to', 'any', 'change', 'in', 'patients', '’', 'data', 'that', 'requires', 'urgent', 'attention.•', 'Stem-cell', 'medicine', 'will', 'be', 'a', 'powerful', 'tool', 'in', 'mainstream', 'medicine', '.', 'For', 'example', ',', 'replacement', 'human', 'organs', 'for', 'transplant', 'will', 'be', 'grown', 'on', 'demand', 'from', 'stem', 'cells', 'in', 'the', 'lab', ',', 'with', 'minimal', 'risk', 'of', 'rejection•', 'Nano-medicine', '(', 'in', 'its', 'infancy', 'in', '2019', ')', 'may', 'eventually', 'outperform', 'all', 'other', 'branches', 'of', 'medical', 'science', ',', 'as', 'scientists', 'create', '‘', 'designer', 'drugs', 'that', 'are', 'far', 'more', 'powerful', 'than', 'today', '’', 's', 'drugs•', 'Artificial', 'Intelligence', '(', 'AI', ')', '‘', 'chatbots', '’', 'equipped', 'with', 'deep', 'learning', 'algorithms', 'could', 'relieve', 'emergency', 'room', 'personnel', 'of', 'tending', 'to', 'large', 'numbers', 'of', 'walk-in', 'patients', 'with', 'non-emergencies', '(', 'e.g', '.', 'sore', 'throats', ',', 'UTIs', ')', '.', 'The', '10', 'archetypes', 'will', 'fall', 'into', 'three', 'distinct', ',', 'but', 'interconnected', ',', 'categories', ':', '•', 'Data', 'and', 'platforms', ':', 'These', 'archetypes', 'will', 'be', 'the', 'foundational', 'infrastructure', 'that', 'forms', 'the', 'backbone', 'of', 'tomorrow', '’', 's', 'health', 'ecosystem', '.', 'They', 'will', 'generate', 'insights', 'for', 'decision-making', '.', 'Everything', 'else', 'will', 'build', 'off', 'of', 'the', 'data', 'and', 'platforms', 'that', 'underpin', 'consumer-driven', 'health.•', 'Well-being', 'and', 'care', 'delivery', ':', 'These', 'archetypes', 'will', 'be', 'the', 'most', 'health-focused', 'of', 'the', 'three', 'groupings', 'made', 'up', 'of', 'care', 'facilities', 'and', 'health', 'communities—both', 'virtual', 'and', 'physical', ',', 'and', 'will', 'provide', 'consumer-centric', 'delivery', 'of', 'products', ',', 'care', ',', 'wellness', ',', 'and', 'well-being', '.', '•', 'Care', 'enablement', ':', 'These', 'archetypes', 'will', 'be', 'connectors', ',', 'financers', ',', 'and', 'regulators', 'thathelp', 'make', 'the', 'industry', '’', 's', '“', 'engine', '”', 'run', '.', 'All', 'three', 'components', 'need', 'to', 'be', 'fully', 'functioning', 'and', 'integrated', 'for', 'the', 'future', 'of', 'health', 'to', 'come', 'to', 'life.The', 'future', 'of', 'healthcare', 'is', 'shaping', 'up', 'in', 'front', 'of', 'our', 'very', 'eyes', 'with', 'advances', 'in', 'digital', 'healthcare', 'technologies', ',', 'such', 'as', 'artificial', 'intelligence', ',', 'VR/AR', ',', '3D', 'printing', ',', 'robotics', ',', 'and', 'nanotechnology', '.', 'We', 'have', 'to', 'familiarize', 'ourselves', 'with', 'the', 'latest', 'developments', 'to', 'be', 'able', 'to', 'control', 'technology', 'and', 'not', 'the', 'other', 'way', 'around', '.', 'The', 'future', 'of', 'healthcare', 'lies', 'in', 'working', 'hand-in-hand', 'with', 'technology', 'and', 'healthcare', 'workers', 'have', 'to', 'embrace', 'emerging', 'healthcare', 'technologies', 'to', 'stay', 'relevant', 'in', 'the', 'coming', 'years', '.', 'So', 'it', 'is', 'worth', 'starting', '“', 'the', 'future', '”', 'with', 'the', 'betterment', 'of', 'our', 'health', 'through', 'digital', 'technologies', ',', 'as', 'well', 'as', 'changing', 'our', 'attitude', 'towards', 'the', 'concept', 'of', 'health', 'as', 'such', 'and', 'towards', 'medicine', 'and', 'healthcare', '.']\n",
      "Positive Score: 122\n",
      "Negative Score: 47\n",
      "Polarity Score: 0.44378697962256225\n",
      "Subjectivity Score 0.29911504371838044\n"
     ]
    }
   ],
   "source": [
    "calculate_score(\"https://insights.blackcoffer.com/an-outlook-of-healthcare-by-the-year-2040-and-how-it-will-impact-human-lives/\")"
   ]
  },
  {
   "cell_type": "code",
   "execution_count": 102,
   "metadata": {},
   "outputs": [],
   "source": [
    "# analysis of readability\n",
    "\n",
    "def analysis_of_readiblity(url): \n",
    "    article = extract_text(url)\n",
    "\n",
    "    sentences = sent_tokenize(article)\n",
    "    words = word_tokenize(article)\n",
    "\n",
    "    num_sentences = len(sentences)\n",
    "    num_words = len(words)\n",
    "\n",
    "    average_sentence_length = num_words / num_sentences\n",
    "    \n",
    "    # Create a syllable counter using the 'pyphen' library\n",
    "    dic = pyphen.Pyphen(lang='en')\n",
    "\n",
    "    # Define a function to count syllables in a word\n",
    "    def count_syllables(word):\n",
    "        return len(dic.inserted(word).split('-'))\n",
    "\n",
    "    # Count the number of syllables for each word and determine complex words\n",
    "    complex_words = [word for word in words if count_syllables(word) > 2]\n",
    "\n",
    "    # Count the number of complex words\n",
    "    num_complex_words = len(complex_words)\n",
    "\n",
    "    percentage_complex_words = num_complex_words / num_words\n",
    "\n",
    "    fog_index = 0.4 * (average_sentence_length + percentage_complex_words)\n",
    "    \n",
    "    average_words_per_sentence = num_words / num_sentences\n",
    "\n",
    "    print(\"Average Sentence Length:\", average_sentence_length)\n",
    "    print(\"Percentage of Complex Words:\", percentage_complex_words)\n",
    "    print(\"Fog Index:\", fog_index)\n",
    "    print(\"Average number of words per sentence:\" , average_words_per_sentence)\n",
    "    print('Number of complex words' , num_complex_words)\n",
    "\n"
   ]
  },
  {
   "cell_type": "code",
   "execution_count": 103,
   "metadata": {},
   "outputs": [
    {
     "name": "stdout",
     "output_type": "stream",
     "text": [
      "Average Sentence Length: 32.63157894736842\n",
      "Percentage of Complex Words: 0.15161290322580645\n",
      "Fog Index: 13.113276740237689\n",
      "Average number of words per sentence: 32.63157894736842\n",
      "Number of complex words 188\n"
     ]
    }
   ],
   "source": [
    "analysis_of_readiblity(\"https://insights.blackcoffer.com/an-outlook-of-healthcare-by-the-year-2040-and-how-it-will-impact-human-lives/\")"
   ]
  },
  {
   "cell_type": "code",
   "execution_count": 107,
   "metadata": {},
   "outputs": [],
   "source": [
    "def clean_word(word):\n",
    "    return word.translate(str.maketrans('', '', string.punctuation)).lower()\n",
    "\n",
    "def word_count(url):\n",
    "    article = extract_text(url)\n",
    "    words = word_tokenize(article)\n",
    "    stop_words = set(stopwords.words('english'))\n",
    "    cleaned_words = [clean_word(word) for word in words if clean_word(word) not in stop_words]\n",
    "    total_cleaned_words = len(cleaned_words)\n",
    "    print(\"Total Cleaned Words:\", total_cleaned_words)"
   ]
  },
  {
   "cell_type": "code",
   "execution_count": 108,
   "metadata": {},
   "outputs": [
    {
     "name": "stdout",
     "output_type": "stream",
     "text": [
      "Total Cleaned Words: 773\n"
     ]
    }
   ],
   "source": [
    "word_count(\"https://insights.blackcoffer.com/an-outlook-of-healthcare-by-the-year-2040-and-how-it-will-impact-human-lives/\")"
   ]
  },
  {
   "cell_type": "code",
   "execution_count": 114,
   "metadata": {},
   "outputs": [],
   "source": [
    "def count_syllables(word):\n",
    "    # Remove common suffixes that don't contribute to syllable count\n",
    "    word = re.sub(r'[aeiouyAEIOUY]{2,}', 'a', word) \n",
    "    word = re.sub(r'[eE][sS]$', '', word)  \n",
    "    word = re.sub(r'[eE][dD]$', '', word)  \n",
    "\n",
    "    # Count the number of remaining vowels\n",
    "    syllables = len(re.findall(r'[aeiouyAEIOUY]+', word))\n",
    "    return max(1, syllables)  # Ensure at least 1 syllable\n",
    "\n",
    "def syllable_per_word(url):\n",
    "    article = extract_text(url)\n",
    "    words = article.split()  \n",
    "    syllable_counts = [count_syllables(word) for word in words]\n",
    "    total_syllables = sum(syllable_counts)\n",
    "    total_words = len(words)\n",
    "\n",
    "    average_syllables_per_word = total_syllables / total_words\n",
    "    rounded_average = round(average_syllables_per_word)\n",
    "\n",
    "    print(\"Average Syllables Per Word:\", rounded_average)\n",
    "    "
   ]
  },
  {
   "cell_type": "code",
   "execution_count": 115,
   "metadata": {},
   "outputs": [
    {
     "name": "stdout",
     "output_type": "stream",
     "text": [
      "Average Syllables Per Word: 2\n"
     ]
    }
   ],
   "source": [
    "syllable_per_word(\"https://insights.blackcoffer.com/an-outlook-of-healthcare-by-the-year-2040-and-how-it-will-impact-human-lives/\")"
   ]
  },
  {
   "cell_type": "code",
   "execution_count": 116,
   "metadata": {},
   "outputs": [],
   "source": [
    "def count_personal_pronouns(url):\n",
    "    article = extract_text(url)\n",
    "    # Define the regular expression pattern to match personal pronouns\n",
    "    pronoun_pattern = r'\\b(I|we|my|ours|us)\\b'\n",
    "\n",
    "    # Use regex to find and count personal pronouns, excluding \"US\"\n",
    "    personal_pronouns = re.findall(pronoun_pattern, article, flags=re.IGNORECASE)\n",
    "    personal_pronouns = [pronoun for pronoun in personal_pronouns if pronoun.lower() != 'us']\n",
    "    pronoun_count = len(personal_pronouns)\n",
    "\n",
    "    print(\"Personal Pronouns Count:\", pronoun_count)\n"
   ]
  },
  {
   "cell_type": "code",
   "execution_count": 117,
   "metadata": {},
   "outputs": [
    {
     "name": "stdout",
     "output_type": "stream",
     "text": [
      "Personal Pronouns Count: 7\n"
     ]
    }
   ],
   "source": [
    "count_personal_pronouns(\"https://insights.blackcoffer.com/an-outlook-of-healthcare-by-the-year-2040-and-how-it-will-impact-human-lives/\")"
   ]
  },
  {
   "cell_type": "code",
   "execution_count": 118,
   "metadata": {},
   "outputs": [],
   "source": [
    "def average_word_length(url):\n",
    "    article = extract_text(url)\n",
    "    words = article.split()  \n",
    "    total_characters = sum(len(word) for word in words)\n",
    "    total_words = len(words)\n",
    "    average_word_length = total_characters / total_words\n",
    "    print(\"Average Word Length:\", average_word_length)\n"
   ]
  },
  {
   "cell_type": "code",
   "execution_count": 119,
   "metadata": {},
   "outputs": [
    {
     "name": "stdout",
     "output_type": "stream",
     "text": [
      "Average Word Length: 5.5009174311926605\n"
     ]
    }
   ],
   "source": [
    "average_word_length(\"https://insights.blackcoffer.com/an-outlook-of-healthcare-by-the-year-2040-and-how-it-will-impact-human-lives/\")"
   ]
  },
  {
   "cell_type": "code",
   "execution_count": null,
   "metadata": {},
   "outputs": [],
   "source": []
  }
 ],
 "metadata": {
  "kernelspec": {
   "display_name": "base",
   "language": "python",
   "name": "python3"
  },
  "language_info": {
   "codemirror_mode": {
    "name": "ipython",
    "version": 3
   },
   "file_extension": ".py",
   "mimetype": "text/x-python",
   "name": "python",
   "nbconvert_exporter": "python",
   "pygments_lexer": "ipython3",
   "version": "3.10.9"
  },
  "orig_nbformat": 4
 },
 "nbformat": 4,
 "nbformat_minor": 2
}
